{
 "cells": [
  {
   "cell_type": "code",
   "execution_count": null,
   "id": "21513413",
   "metadata": {},
   "outputs": [],
   "source": [
    "%matplotlib notebook"
   ]
  },
  {
   "cell_type": "code",
   "execution_count": null,
   "id": "780c18b0",
   "metadata": {},
   "outputs": [],
   "source": [
    "import matplotlib.pyplot as plt\n",
    "import numpy as np\n",
    "import pandas as pd\n",
    "from pathlib import Path"
   ]
  },
  {
   "cell_type": "code",
   "execution_count": null,
   "id": "473bf3b9",
   "metadata": {
    "scrolled": true
   },
   "outputs": [],
   "source": [
    "crime_data = Path(\"/Users/nathanialhermann/Desktop/Bootcamp/project-1/Violence_Reduction_-_Victims_of_Homicides_and_Non-Fatal_Shootings.csv\")\n",
    "crime_data_df = pd.read_csv(\"/Users/nathanialhermann/Desktop/Bootcamp/project-1/Violence_Reduction_-_Victims_of_Homicides_and_Non-Fatal_Shootings.csv\")\n",
    "df = pd.read_csv(crime_data)\n",
    "df.head()"
   ]
  },
  {
   "cell_type": "code",
   "execution_count": null,
   "id": "60038502",
   "metadata": {},
   "outputs": [],
   "source": [
    "x_axis = np.arange(len(crime_data_df))\n",
    "tick_locations = [value+0.4 for value in x_axis]"
   ]
  },
  {
   "cell_type": "code",
   "execution_count": null,
   "id": "48c1306a",
   "metadata": {},
   "outputs": [],
   "source": [
    "incident_type = crime_data_df.groupby('COMMUNITY_AREA')\n",
    "count_incident_type = incident_type['INCIDENT_PRIMARY'].count()\n",
    "\n",
    "count_incident_type\n"
   ]
  },
  {
   "cell_type": "code",
   "execution_count": null,
   "id": "8344d2ea",
   "metadata": {
    "scrolled": true
   },
   "outputs": [],
   "source": [
    "count_chart = count_incident_type.plot(kind='bar', figsize=(6,7))\n",
    "plt.xticks(rotation=90)\n",
    "count_chart.set_xlabel(\"Community\")\n",
    "count_chart.set_ylabel(\"Number of Incidents\")\n",
    "count_chart.set_title(\"Number of Total Incidents per Community\")\n",
    "plt.tight_layout()\n",
    "plt.show()\n"
   ]
  },
  {
   "cell_type": "code",
   "execution_count": null,
   "id": "dee51d85",
   "metadata": {
    "scrolled": true
   },
   "outputs": [],
   "source": [
    "area = (\"Austin\", \"Garfield Park\", \"Englewood\", \"Greater Grand Crossing\", \"North Lawndale\",\"Riverdale\",\"South Shore\",\n",
    "           \"Washington Park\", \"West Englewood\", \"West Garfield Park\")\n",
    "incident_types = {\n",
    "    'Homicide': (1118, 418, 594, 322, 603, 102, 358, 153, 605, 501),\n",
    "    'Battery': (2564, 1095, 1449, 834, 1653, 262, 818, 398, 1610, 1249),\n",
    "    'Robbery': (216, 64, 74, 61, 100, 17, 53, 30, 68, 95),\n",
    "}\n",
    "x = np.arange(len(area))  # the label locations\n",
    "width = 0.25  # the width of the bars\n",
    "multiplier = 0\n",
    "\n",
    "fig, ax = plt.subplots(layout='constrained')\n",
    "\n",
    "for attribute, measurement in incident_types.items():\n",
    "    offset = width * multiplier\n",
    "    rects = ax.bar(x + offset, measurement, width, label=attribute)\n",
    "    ax.bar_label(rects, padding=3, alpha=0.9, fontsize=5)\n",
    "    multiplier += 1\n",
    "\n",
    "# Add some text for labels, title and custom x-axis tick labels, etc.\n",
    "ax.set_ylabel('Number of Incidents)')\n",
    "ax.set_xlabel('Community')\n",
    "ax.set_title('Number of Incidents by Type and Community')\n",
    "ax.set_xticks(x + width, area, rotation=(90))\n",
    "ax.legend(loc='upper left', ncols=3)\n",
    "ax.set_ylim(0, 3000)\n",
    "\n",
    "\n",
    "plt.show()"
   ]
  },
  {
   "cell_type": "code",
   "execution_count": null,
   "id": "0f4b2a9f",
   "metadata": {},
   "outputs": [],
   "source": [
    "week_day = crime_data_df.groupby('DAY_OF_WEEK')\n",
    "weekday_count = week_day['DAY_OF_WEEK'].count()\n",
    "\n",
    "weekday_count"
   ]
  },
  {
   "cell_type": "code",
   "execution_count": null,
   "id": "d7698908",
   "metadata": {},
   "outputs": [],
   "source": [
    "weekday_chart = weekday_count.plot(kind='bar', figsize=(6,10))\n",
    "plt.xticks(rotation=90)\n",
    "weekday_chart.set_xlabel(\"Day of the Week\")\n",
    "weekday_chart.set_ylabel(\"Number of Incidents\")\n",
    "weekday_chart.set_title(\"Number of Total Incidents by Day of Week\")\n",
    "plt.tight_layout()\n",
    "plt.show()"
   ]
  },
  {
   "cell_type": "code",
   "execution_count": null,
   "id": "1ffbf318",
   "metadata": {},
   "outputs": [],
   "source": [
    "area = (\"Sunday\", \"Monday\", \"Tuesday\", \"Wednesday\", \"Thursday\",\"Friday\",\"Saturday\")\n",
    "incident_types = {\n",
    "    'Homicide': (826, 654, 565, 602, 577, 687, 863),\n",
    "    'Battery': (2298, 1619, 1403, 1496, 1409, 1478, 2239),\n",
    "    'Robbery': (136, 106, 101, 89, 99, 115, 132)\n",
    "}\n",
    "x = np.arange(len(area))  # the label locations\n",
    "width = 0.25  # the width of the bars\n",
    "multiplier = 0\n",
    "\n",
    "fig, ax = plt.subplots(layout='constrained')\n",
    "\n",
    "for attribute, measurement in incident_types.items():\n",
    "    offset = width * multiplier\n",
    "    rects = ax.bar(x + offset, measurement, width, label=attribute)\n",
    "    ax.bar_label(rects, padding=3, alpha=0.9, fontsize=5)\n",
    "    multiplier += 1\n",
    "\n",
    "# Add some text for labels, title and custom x-axis tick labels, etc.\n",
    "ax.set_ylabel('Number of Incidents')\n",
    "ax.set_xlabel('Day of the Week')\n",
    "ax.set_title('Number of Incidents by Type and Weekday')\n",
    "ax.set_xticks(x + width, area, rotation=(0))\n",
    "ax.legend(loc='upper left', ncols=3)\n",
    "ax.set_ylim(0, 3000)\n",
    "\n",
    "\n",
    "plt.show()"
   ]
  },
  {
   "cell_type": "code",
   "execution_count": null,
   "id": "1b48a443",
   "metadata": {},
   "outputs": [],
   "source": []
  }
 ],
 "metadata": {
  "kernelspec": {
   "display_name": "Python 3 (ipykernel)",
   "language": "python",
   "name": "python3"
  },
  "language_info": {
   "codemirror_mode": {
    "name": "ipython",
    "version": 3
   },
   "file_extension": ".py",
   "mimetype": "text/x-python",
   "name": "python",
   "nbconvert_exporter": "python",
   "pygments_lexer": "ipython3",
   "version": "3.10.9"
  }
 },
 "nbformat": 4,
 "nbformat_minor": 5
}
