{
 "cells": [
  {
   "cell_type": "code",
   "execution_count": 1,
   "id": "4ce48ec5",
   "metadata": {},
   "outputs": [],
   "source": [
    "import pandas as pd\n",
    "from pathlib import Path"
   ]
  },
  {
   "cell_type": "code",
   "execution_count": 2,
   "id": "855c5bae",
   "metadata": {},
   "outputs": [],
   "source": [
    "crime_data = Path(\"/Users/hazelmena/Desktop/Homework/project-1/Violence_Reduction_-_Victims_of_Homicides_and_Non-Fatal_Shootings.csv\")\n"
   ]
  },
  {
   "cell_type": "code",
   "execution_count": 3,
   "id": "22f1ddc4",
   "metadata": {},
   "outputs": [],
   "source": [
    "df = pd.read_csv(crime_data)"
   ]
  },
  {
   "cell_type": "code",
   "execution_count": 4,
   "id": "b047230c",
   "metadata": {},
   "outputs": [
    {
     "data": {
      "text/html": [
       "<div>\n",
       "<style scoped>\n",
       "    .dataframe tbody tr th:only-of-type {\n",
       "        vertical-align: middle;\n",
       "    }\n",
       "\n",
       "    .dataframe tbody tr th {\n",
       "        vertical-align: top;\n",
       "    }\n",
       "\n",
       "    .dataframe thead th {\n",
       "        text-align: right;\n",
       "    }\n",
       "</style>\n",
       "<table border=\"1\" class=\"dataframe\">\n",
       "  <thead>\n",
       "    <tr style=\"text-align: right;\">\n",
       "      <th></th>\n",
       "      <th>CASE_NUMBER</th>\n",
       "      <th>DATE</th>\n",
       "      <th>VICTIMIZATION_PRIMARY</th>\n",
       "      <th>INCIDENT_PRIMARY</th>\n",
       "      <th>GUNSHOT_INJURY_I</th>\n",
       "      <th>COMMUNITY_AREA</th>\n",
       "      <th>STREET_OUTREACH_ORGANIZATION</th>\n",
       "      <th>AREA</th>\n",
       "      <th>DISTRICT</th>\n",
       "      <th>BEAT</th>\n",
       "      <th>AGE</th>\n",
       "      <th>SEX</th>\n",
       "      <th>RACE</th>\n",
       "      <th>VICTIMIZATION_IUCR_SECONDARY</th>\n",
       "      <th>MONTH</th>\n",
       "      <th>DAY_OF_WEEK</th>\n",
       "      <th>HOUR</th>\n",
       "      <th>LOCATION_DESCRIPTION</th>\n",
       "    </tr>\n",
       "  </thead>\n",
       "  <tbody>\n",
       "    <tr>\n",
       "      <th>0</th>\n",
       "      <td>JG147400</td>\n",
       "      <td>2/10/23</td>\n",
       "      <td>HOMICIDE</td>\n",
       "      <td>HOMICIDE</td>\n",
       "      <td>YES</td>\n",
       "      <td>SOUTH SHORE</td>\n",
       "      <td>Claretian Associates South Shore</td>\n",
       "      <td>1</td>\n",
       "      <td>3</td>\n",
       "      <td>334</td>\n",
       "      <td>30-39</td>\n",
       "      <td>M</td>\n",
       "      <td>BLK</td>\n",
       "      <td>FIRST DEGREE MURDER</td>\n",
       "      <td>2</td>\n",
       "      <td>6</td>\n",
       "      <td>10</td>\n",
       "      <td>APARTMENT</td>\n",
       "    </tr>\n",
       "    <tr>\n",
       "      <th>1</th>\n",
       "      <td>JG214225</td>\n",
       "      <td>4/7/23</td>\n",
       "      <td>HOMICIDE</td>\n",
       "      <td>HOMICIDE</td>\n",
       "      <td>YES</td>\n",
       "      <td>WEST GARFIELD PARK</td>\n",
       "      <td>READI 60624 | INVC West Garfield Park</td>\n",
       "      <td>4</td>\n",
       "      <td>11</td>\n",
       "      <td>1113</td>\n",
       "      <td>20-29</td>\n",
       "      <td>M</td>\n",
       "      <td>BLK</td>\n",
       "      <td>FIRST DEGREE MURDER</td>\n",
       "      <td>4</td>\n",
       "      <td>6</td>\n",
       "      <td>12</td>\n",
       "      <td>STREET</td>\n",
       "    </tr>\n",
       "    <tr>\n",
       "      <th>2</th>\n",
       "      <td>JD204846</td>\n",
       "      <td>4/8/20</td>\n",
       "      <td>BATTERY</td>\n",
       "      <td>BATTERY</td>\n",
       "      <td>YES</td>\n",
       "      <td>AUSTIN</td>\n",
       "      <td>INVC Austin</td>\n",
       "      <td>5</td>\n",
       "      <td>25</td>\n",
       "      <td>2532</td>\n",
       "      <td>20-29</td>\n",
       "      <td>M</td>\n",
       "      <td>BLK</td>\n",
       "      <td>AGGRAVATED - HANDGUN</td>\n",
       "      <td>4</td>\n",
       "      <td>4</td>\n",
       "      <td>14</td>\n",
       "      <td>STREET</td>\n",
       "    </tr>\n",
       "    <tr>\n",
       "      <th>3</th>\n",
       "      <td>JD204846</td>\n",
       "      <td>4/8/20</td>\n",
       "      <td>BATTERY</td>\n",
       "      <td>BATTERY</td>\n",
       "      <td>YES</td>\n",
       "      <td>AUSTIN</td>\n",
       "      <td>INVC Austin</td>\n",
       "      <td>5</td>\n",
       "      <td>25</td>\n",
       "      <td>2532</td>\n",
       "      <td>20-29</td>\n",
       "      <td>M</td>\n",
       "      <td>BLK</td>\n",
       "      <td>AGGRAVATED - HANDGUN</td>\n",
       "      <td>4</td>\n",
       "      <td>4</td>\n",
       "      <td>14</td>\n",
       "      <td>STREET</td>\n",
       "    </tr>\n",
       "    <tr>\n",
       "      <th>4</th>\n",
       "      <td>JD382340</td>\n",
       "      <td>9/28/20</td>\n",
       "      <td>BATTERY</td>\n",
       "      <td>BATTERY</td>\n",
       "      <td>YES</td>\n",
       "      <td>AUSTIN</td>\n",
       "      <td>INVC Austin</td>\n",
       "      <td>5</td>\n",
       "      <td>25</td>\n",
       "      <td>2532</td>\n",
       "      <td>UNKNOWN</td>\n",
       "      <td>UNKNOWN</td>\n",
       "      <td>UNKNOWN</td>\n",
       "      <td>AGGRAVATED - HANDGUN</td>\n",
       "      <td>9</td>\n",
       "      <td>2</td>\n",
       "      <td>17</td>\n",
       "      <td>STREET</td>\n",
       "    </tr>\n",
       "  </tbody>\n",
       "</table>\n",
       "</div>"
      ],
      "text/plain": [
       "  CASE_NUMBER     DATE VICTIMIZATION_PRIMARY INCIDENT_PRIMARY  \\\n",
       "0    JG147400  2/10/23              HOMICIDE         HOMICIDE   \n",
       "1    JG214225   4/7/23              HOMICIDE         HOMICIDE   \n",
       "2    JD204846   4/8/20               BATTERY          BATTERY   \n",
       "3    JD204846   4/8/20               BATTERY          BATTERY   \n",
       "4    JD382340  9/28/20               BATTERY          BATTERY   \n",
       "\n",
       "  GUNSHOT_INJURY_I      COMMUNITY_AREA           STREET_OUTREACH_ORGANIZATION  \\\n",
       "0              YES         SOUTH SHORE       Claretian Associates South Shore   \n",
       "1              YES  WEST GARFIELD PARK  READI 60624 | INVC West Garfield Park   \n",
       "2              YES              AUSTIN                            INVC Austin   \n",
       "3              YES              AUSTIN                            INVC Austin   \n",
       "4              YES              AUSTIN                            INVC Austin   \n",
       "\n",
       "   AREA  DISTRICT  BEAT      AGE      SEX     RACE  \\\n",
       "0     1         3   334    30-39        M      BLK   \n",
       "1     4        11  1113    20-29        M      BLK   \n",
       "2     5        25  2532    20-29        M      BLK   \n",
       "3     5        25  2532    20-29        M      BLK   \n",
       "4     5        25  2532  UNKNOWN  UNKNOWN  UNKNOWN   \n",
       "\n",
       "  VICTIMIZATION_IUCR_SECONDARY  MONTH  DAY_OF_WEEK  HOUR LOCATION_DESCRIPTION  \n",
       "0          FIRST DEGREE MURDER      2            6    10            APARTMENT  \n",
       "1          FIRST DEGREE MURDER      4            6    12               STREET  \n",
       "2         AGGRAVATED - HANDGUN      4            4    14               STREET  \n",
       "3         AGGRAVATED - HANDGUN      4            4    14               STREET  \n",
       "4         AGGRAVATED - HANDGUN      9            2    17               STREET  "
      ]
     },
     "execution_count": 4,
     "metadata": {},
     "output_type": "execute_result"
    }
   ],
   "source": [
    "df.head()"
   ]
  },
  {
   "cell_type": "code",
   "execution_count": 5,
   "id": "74b4f34a",
   "metadata": {},
   "outputs": [
    {
     "data": {
      "text/plain": [
       "CASE_NUMBER                     18803\n",
       "DATE                            18803\n",
       "VICTIMIZATION_PRIMARY           18803\n",
       "INCIDENT_PRIMARY                18803\n",
       "GUNSHOT_INJURY_I                18803\n",
       "COMMUNITY_AREA                  18803\n",
       "STREET_OUTREACH_ORGANIZATION    18803\n",
       "AREA                            18803\n",
       "DISTRICT                        18803\n",
       "BEAT                            18803\n",
       "AGE                             18803\n",
       "SEX                             18803\n",
       "RACE                            18803\n",
       "VICTIMIZATION_IUCR_SECONDARY    18803\n",
       "MONTH                           18803\n",
       "DAY_OF_WEEK                     18803\n",
       "HOUR                            18803\n",
       "LOCATION_DESCRIPTION            18803\n",
       "dtype: int64"
      ]
     },
     "execution_count": 5,
     "metadata": {},
     "output_type": "execute_result"
    }
   ],
   "source": [
    "df.count()"
   ]
  },
  {
   "cell_type": "code",
   "execution_count": 6,
   "id": "1bbc8456",
   "metadata": {},
   "outputs": [],
   "source": [
    "df = df.dropna(how='any')"
   ]
  },
  {
   "cell_type": "code",
   "execution_count": 7,
   "id": "533d49d3",
   "metadata": {},
   "outputs": [
    {
     "data": {
      "text/plain": [
       "CASE_NUMBER                     18803\n",
       "DATE                            18803\n",
       "VICTIMIZATION_PRIMARY           18803\n",
       "INCIDENT_PRIMARY                18803\n",
       "GUNSHOT_INJURY_I                18803\n",
       "COMMUNITY_AREA                  18803\n",
       "STREET_OUTREACH_ORGANIZATION    18803\n",
       "AREA                            18803\n",
       "DISTRICT                        18803\n",
       "BEAT                            18803\n",
       "AGE                             18803\n",
       "SEX                             18803\n",
       "RACE                            18803\n",
       "VICTIMIZATION_IUCR_SECONDARY    18803\n",
       "MONTH                           18803\n",
       "DAY_OF_WEEK                     18803\n",
       "HOUR                            18803\n",
       "LOCATION_DESCRIPTION            18803\n",
       "dtype: int64"
      ]
     },
     "execution_count": 7,
     "metadata": {},
     "output_type": "execute_result"
    }
   ],
   "source": [
    "df.count()"
   ]
  },
  {
   "cell_type": "code",
   "execution_count": 8,
   "id": "aa097878",
   "metadata": {},
   "outputs": [
    {
     "data": {
      "text/plain": [
       "Index(['CASE_NUMBER', 'DATE', 'VICTIMIZATION_PRIMARY', 'INCIDENT_PRIMARY',\n",
       "       'GUNSHOT_INJURY_I', 'COMMUNITY_AREA', 'STREET_OUTREACH_ORGANIZATION',\n",
       "       'AREA', 'DISTRICT', 'BEAT', 'AGE', 'SEX', 'RACE',\n",
       "       'VICTIMIZATION_IUCR_SECONDARY', 'MONTH', 'DAY_OF_WEEK', 'HOUR',\n",
       "       'LOCATION_DESCRIPTION'],\n",
       "      dtype='object')"
      ]
     },
     "execution_count": 8,
     "metadata": {},
     "output_type": "execute_result"
    }
   ],
   "source": [
    "df.columns\n"
   ]
  },
  {
   "cell_type": "code",
   "execution_count": 9,
   "id": "8a88a1af",
   "metadata": {},
   "outputs": [],
   "source": [
    "df = df[df.COMMUNITY_AREA != 'MCKINLEY PARK']\n",
    "df = df[df.COMMUNITY_AREA != 'WASHINGTON HEIGHTS']\n",
    "df = df[df.COMMUNITY_AREA != 'NEW CITY']\n",
    "df = df[df.COMMUNITY_AREA != 'SOUTH DEERING']\n",
    "df = df[df.COMMUNITY_AREA != 'HUMBOLDT PARK']\n",
    "df = df[df.COMMUNITY_AREA != 'CHICAGO LAWN']\n",
    "df = df[df.COMMUNITY_AREA != 'ROGERS PARK']\n",
    "df = df[df.COMMUNITY_AREA != 'CHATHAM'] \n",
    "df = df[df.COMMUNITY_AREA != 'BURNSIDE']\n",
    "df = df[df.COMMUNITY_AREA != 'AUBURN GRESHAM']\n",
    "df = df[df.COMMUNITY_AREA != 'BRIGHTON PARK']\n",
    "df = df[df.COMMUNITY_AREA != 'SOUTH CHICAGO']\n",
    "df = df[df.COMMUNITY_AREA != 'BELMONT CRAGIN']\n",
    "df = df[df.COMMUNITY_AREA != 'ROSELAND']\n",
    "df = df[df.COMMUNITY_AREA != 'EAST SIDE']\n",
    "df = df[df.COMMUNITY_AREA != 'DOUGLAS']\n",
    "df = df[df.COMMUNITY_AREA != 'GRAND BOULEVARD']\n",
    "df = df[df.COMMUNITY_AREA != 'GAGE PARK']\n",
    "df = df[df.COMMUNITY_AREA != 'HERMOSA']\n",
    "df = df[df.COMMUNITY_AREA != 'HYDE PARK']\n",
    "df = df[df.COMMUNITY_AREA != 'HEGEWISCH']\n",
    "df = df[df.COMMUNITY_AREA != 'AVONDALE']\n",
    "df = df[df.COMMUNITY_AREA != 'ALBANY PARK']\n",
    "df = df[df.COMMUNITY_AREA != 'ASHBURN']\n",
    "df = df[df.COMMUNITY_AREA != 'FULLER PARK']\n",
    "df = df[df.COMMUNITY_AREA != 'NEAR WEST SIDE']\n",
    "df = df[df.COMMUNITY_AREA != 'ROGERS PARK']\n",
    "df = df[df.COMMUNITY_AREA != 'LOGAN SQUARE']\n",
    "df = df[df.COMMUNITY_AREA != 'WEST ELSDON']\n",
    "df = df[df.COMMUNITY_AREA != 'SOUTH LAWNDALE']\n",
    "df = df[df.COMMUNITY_AREA != 'WEST TOWN']\n",
    "df = df[df.COMMUNITY_AREA != 'CALUMET HEIGHTS']\n",
    "df = df[df.COMMUNITY_AREA != 'MORGAN PARK']\n",
    "df = df[df.COMMUNITY_AREA != 'KENWOOD']\n",
    "df = df[df.COMMUNITY_AREA != 'CLEARING']\n",
    "df = df[df.COMMUNITY_AREA != 'LOWER WEST SIDE']\n",
    "df = df[df.COMMUNITY_AREA != 'NEAR SOUTH SIDE']\n",
    "df = df[df.COMMUNITY_AREA != 'OAKLAND'] \n",
    "df = df[df.COMMUNITY_AREA != 'PULLMAN']\n",
    "df = df[df.COMMUNITY_AREA != 'WEST PULLMAN']\n",
    "df = df[df.COMMUNITY_AREA != 'ARMOUR SQUARE']\n",
    "df = df[df.COMMUNITY_AREA != 'UPTOWN']\n",
    "df = df[df.COMMUNITY_AREA != 'WEST LAWN']\n",
    "df = df[df.COMMUNITY_AREA != 'WOODLAWN']"
   ]
  },
  {
   "cell_type": "code",
   "execution_count": 10,
   "id": "6dd3fde5",
   "metadata": {},
   "outputs": [
    {
     "data": {
      "text/plain": [
       "CASE_NUMBER                     17484\n",
       "DATE                            17484\n",
       "VICTIMIZATION_PRIMARY           17484\n",
       "INCIDENT_PRIMARY                17484\n",
       "GUNSHOT_INJURY_I                17484\n",
       "COMMUNITY_AREA                  17484\n",
       "STREET_OUTREACH_ORGANIZATION    17484\n",
       "AREA                            17484\n",
       "DISTRICT                        17484\n",
       "BEAT                            17484\n",
       "AGE                             17484\n",
       "SEX                             17484\n",
       "RACE                            17484\n",
       "VICTIMIZATION_IUCR_SECONDARY    17484\n",
       "MONTH                           17484\n",
       "DAY_OF_WEEK                     17484\n",
       "HOUR                            17484\n",
       "LOCATION_DESCRIPTION            17484\n",
       "dtype: int64"
      ]
     },
     "execution_count": 10,
     "metadata": {},
     "output_type": "execute_result"
    }
   ],
   "source": [
    "df.count()"
   ]
  },
  {
   "cell_type": "code",
   "execution_count": 11,
   "id": "e79f6e95",
   "metadata": {},
   "outputs": [],
   "source": [
    "df.to_csv(\"/Users/hazelmena/Desktop/Homework/project-1/Violence_Reduction_-_Victims_of_Homicides_and_Non-Fatal_Shootings.csv\", index=False)"
   ]
  },
  {
   "cell_type": "code",
   "execution_count": null,
   "id": "84424fda",
   "metadata": {},
   "outputs": [],
   "source": []
  }
 ],
 "metadata": {
  "kernelspec": {
   "display_name": "Python 3 (ipykernel)",
   "language": "python",
   "name": "python3"
  },
  "language_info": {
   "codemirror_mode": {
    "name": "ipython",
    "version": 3
   },
   "file_extension": ".py",
   "mimetype": "text/x-python",
   "name": "python",
   "nbconvert_exporter": "python",
   "pygments_lexer": "ipython3",
   "version": "3.10.11"
  }
 },
 "nbformat": 4,
 "nbformat_minor": 5
}
